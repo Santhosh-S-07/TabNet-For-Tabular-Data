{
  "nbformat": 4,
  "nbformat_minor": 0,
  "metadata": {
    "colab": {
      "provenance": []
    },
    "kernelspec": {
      "name": "python3",
      "display_name": "Python 3"
    },
    "language_info": {
      "name": "python"
    }
  },
  "cells": [
    {
      "cell_type": "code",
      "execution_count": 1,
      "metadata": {
        "colab": {
          "base_uri": "https://localhost:8080/"
        },
        "id": "XiK4DR9UIiKS",
        "outputId": "5953663a-d667-486c-ee67-3cb5d2ccd3e9"
      },
      "outputs": [
        {
          "output_type": "stream",
          "name": "stdout",
          "text": [
            "Requirement already satisfied: numpy in /usr/local/lib/python3.10/dist-packages (1.26.4)\n"
          ]
        }
      ],
      "source": [
        "!pip install numpy"
      ]
    },
    {
      "cell_type": "code",
      "source": [
        "!pip install pandas"
      ],
      "metadata": {
        "colab": {
          "base_uri": "https://localhost:8080/"
        },
        "id": "MbTzkmz3IyML",
        "outputId": "e66b9b61-0081-4786-dbe6-f6c242ab5ca8"
      },
      "execution_count": 2,
      "outputs": [
        {
          "output_type": "stream",
          "name": "stdout",
          "text": [
            "Requirement already satisfied: pandas in /usr/local/lib/python3.10/dist-packages (2.2.2)\n",
            "Requirement already satisfied: numpy>=1.22.4 in /usr/local/lib/python3.10/dist-packages (from pandas) (1.26.4)\n",
            "Requirement already satisfied: python-dateutil>=2.8.2 in /usr/local/lib/python3.10/dist-packages (from pandas) (2.8.2)\n",
            "Requirement already satisfied: pytz>=2020.1 in /usr/local/lib/python3.10/dist-packages (from pandas) (2024.2)\n",
            "Requirement already satisfied: tzdata>=2022.7 in /usr/local/lib/python3.10/dist-packages (from pandas) (2024.2)\n",
            "Requirement already satisfied: six>=1.5 in /usr/local/lib/python3.10/dist-packages (from python-dateutil>=2.8.2->pandas) (1.17.0)\n"
          ]
        }
      ]
    },
    {
      "cell_type": "code",
      "source": [
        "!pip install matplotlib"
      ],
      "metadata": {
        "colab": {
          "base_uri": "https://localhost:8080/"
        },
        "id": "lWqTJ6RlI258",
        "outputId": "840d37c9-d0ae-4f2a-f166-6c98fd56c3e3"
      },
      "execution_count": 3,
      "outputs": [
        {
          "output_type": "stream",
          "name": "stdout",
          "text": [
            "Requirement already satisfied: matplotlib in /usr/local/lib/python3.10/dist-packages (3.8.0)\n",
            "Requirement already satisfied: contourpy>=1.0.1 in /usr/local/lib/python3.10/dist-packages (from matplotlib) (1.3.1)\n",
            "Requirement already satisfied: cycler>=0.10 in /usr/local/lib/python3.10/dist-packages (from matplotlib) (0.12.1)\n",
            "Requirement already satisfied: fonttools>=4.22.0 in /usr/local/lib/python3.10/dist-packages (from matplotlib) (4.55.3)\n",
            "Requirement already satisfied: kiwisolver>=1.0.1 in /usr/local/lib/python3.10/dist-packages (from matplotlib) (1.4.7)\n",
            "Requirement already satisfied: numpy<2,>=1.21 in /usr/local/lib/python3.10/dist-packages (from matplotlib) (1.26.4)\n",
            "Requirement already satisfied: packaging>=20.0 in /usr/local/lib/python3.10/dist-packages (from matplotlib) (24.2)\n",
            "Requirement already satisfied: pillow>=6.2.0 in /usr/local/lib/python3.10/dist-packages (from matplotlib) (11.0.0)\n",
            "Requirement already satisfied: pyparsing>=2.3.1 in /usr/local/lib/python3.10/dist-packages (from matplotlib) (3.2.0)\n",
            "Requirement already satisfied: python-dateutil>=2.7 in /usr/local/lib/python3.10/dist-packages (from matplotlib) (2.8.2)\n",
            "Requirement already satisfied: six>=1.5 in /usr/local/lib/python3.10/dist-packages (from python-dateutil>=2.7->matplotlib) (1.17.0)\n"
          ]
        }
      ]
    },
    {
      "cell_type": "code",
      "source": [
        "!pip install scikit-learn"
      ],
      "metadata": {
        "colab": {
          "base_uri": "https://localhost:8080/"
        },
        "id": "72NPpBmrI6DA",
        "outputId": "6f2ff15d-0518-4588-d540-421dbb8f1fda"
      },
      "execution_count": 4,
      "outputs": [
        {
          "output_type": "stream",
          "name": "stdout",
          "text": [
            "Requirement already satisfied: scikit-learn in /usr/local/lib/python3.10/dist-packages (1.6.0)\n",
            "Requirement already satisfied: numpy>=1.19.5 in /usr/local/lib/python3.10/dist-packages (from scikit-learn) (1.26.4)\n",
            "Requirement already satisfied: scipy>=1.6.0 in /usr/local/lib/python3.10/dist-packages (from scikit-learn) (1.13.1)\n",
            "Requirement already satisfied: joblib>=1.2.0 in /usr/local/lib/python3.10/dist-packages (from scikit-learn) (1.4.2)\n",
            "Requirement already satisfied: threadpoolctl>=3.1.0 in /usr/local/lib/python3.10/dist-packages (from scikit-learn) (3.5.0)\n"
          ]
        }
      ]
    },
    {
      "cell_type": "code",
      "source": [
        "!pip install pytorch_tabnet"
      ],
      "metadata": {
        "colab": {
          "base_uri": "https://localhost:8080/"
        },
        "id": "owTuL81II8nm",
        "outputId": "b3de23a3-d0e7-4abc-ae3b-0d853298a730"
      },
      "execution_count": 5,
      "outputs": [
        {
          "output_type": "stream",
          "name": "stdout",
          "text": [
            "Collecting pytorch_tabnet\n",
            "  Downloading pytorch_tabnet-4.1.0-py3-none-any.whl.metadata (15 kB)\n",
            "Requirement already satisfied: numpy>=1.17 in /usr/local/lib/python3.10/dist-packages (from pytorch_tabnet) (1.26.4)\n",
            "Requirement already satisfied: scikit_learn>0.21 in /usr/local/lib/python3.10/dist-packages (from pytorch_tabnet) (1.6.0)\n",
            "Requirement already satisfied: scipy>1.4 in /usr/local/lib/python3.10/dist-packages (from pytorch_tabnet) (1.13.1)\n",
            "Requirement already satisfied: torch>=1.3 in /usr/local/lib/python3.10/dist-packages (from pytorch_tabnet) (2.5.1+cu121)\n",
            "Requirement already satisfied: tqdm>=4.36 in /usr/local/lib/python3.10/dist-packages (from pytorch_tabnet) (4.67.1)\n",
            "Requirement already satisfied: joblib>=1.2.0 in /usr/local/lib/python3.10/dist-packages (from scikit_learn>0.21->pytorch_tabnet) (1.4.2)\n",
            "Requirement already satisfied: threadpoolctl>=3.1.0 in /usr/local/lib/python3.10/dist-packages (from scikit_learn>0.21->pytorch_tabnet) (3.5.0)\n",
            "Requirement already satisfied: filelock in /usr/local/lib/python3.10/dist-packages (from torch>=1.3->pytorch_tabnet) (3.16.1)\n",
            "Requirement already satisfied: typing-extensions>=4.8.0 in /usr/local/lib/python3.10/dist-packages (from torch>=1.3->pytorch_tabnet) (4.12.2)\n",
            "Requirement already satisfied: networkx in /usr/local/lib/python3.10/dist-packages (from torch>=1.3->pytorch_tabnet) (3.4.2)\n",
            "Requirement already satisfied: jinja2 in /usr/local/lib/python3.10/dist-packages (from torch>=1.3->pytorch_tabnet) (3.1.4)\n",
            "Requirement already satisfied: fsspec in /usr/local/lib/python3.10/dist-packages (from torch>=1.3->pytorch_tabnet) (2024.10.0)\n",
            "Requirement already satisfied: sympy==1.13.1 in /usr/local/lib/python3.10/dist-packages (from torch>=1.3->pytorch_tabnet) (1.13.1)\n",
            "Requirement already satisfied: mpmath<1.4,>=1.1.0 in /usr/local/lib/python3.10/dist-packages (from sympy==1.13.1->torch>=1.3->pytorch_tabnet) (1.3.0)\n",
            "Requirement already satisfied: MarkupSafe>=2.0 in /usr/local/lib/python3.10/dist-packages (from jinja2->torch>=1.3->pytorch_tabnet) (3.0.2)\n",
            "Downloading pytorch_tabnet-4.1.0-py3-none-any.whl (44 kB)\n",
            "\u001b[2K   \u001b[90m━━━━━━━━━━━━━━━━━━━━━━━━━━━━━━━━━━━━━━━━\u001b[0m \u001b[32m44.5/44.5 kB\u001b[0m \u001b[31m1.8 MB/s\u001b[0m eta \u001b[36m0:00:00\u001b[0m\n",
            "\u001b[?25hInstalling collected packages: pytorch_tabnet\n",
            "Successfully installed pytorch_tabnet-4.1.0\n"
          ]
        }
      ]
    },
    {
      "cell_type": "code",
      "source": [
        "import numpy as np\n",
        "import pandas as pd\n",
        "from sklearn.model_selection import train_test_split\n",
        "from sklearn.preprocessing import LabelEncoder, StandardScaler\n",
        "from sklearn.metrics import accuracy_score, precision_score, recall_score\n",
        "import matplotlib.pyplot as plt\n",
        "from pytorch_tabnet.tab_model import TabNetClassifier\n",
        "from sklearn.utils import shuffle\n",
        "from imblearn.over_sampling import SMOTE\n",
        "\n",
        "# Load Adult Income dataset\n",
        "url = \"https://archive.ics.uci.edu/ml/machine-learning-databases/adult/adult.data\"\n",
        "columns = [\n",
        "    'age', 'workclass', 'fnlwgt', 'education', 'education-num',\n",
        "    'marital-status', 'occupation', 'relationship', 'race', 'sex',\n",
        "    'capital-gain', 'capital-loss', 'hours-per-week', 'native-country', 'income'\n",
        "]\n",
        "data = pd.read_csv(url, header=None, names=columns, na_values=' ?', skipinitialspace=True)\n",
        "\n",
        "# Drop rows with missing values\n",
        "data.dropna(inplace=True)\n",
        "\n",
        "# Preprocess categorical and numerical features\n",
        "categorical_cols = data.select_dtypes(include=['object']).columns[:-1]  # Exclude target\n",
        "numerical_cols = data.select_dtypes(include=['int64', 'float64']).columns\n",
        "target_col = 'income'\n",
        "\n",
        "# Encode categorical variables\n",
        "label_encoders = {col: LabelEncoder() for col in categorical_cols}\n",
        "for col in categorical_cols:\n",
        "    data[col] = label_encoders[col].fit_transform(data[col])\n",
        "\n",
        "# Scale numerical variables\n",
        "scaler = StandardScaler()\n",
        "data[numerical_cols] = scaler.fit_transform(data[numerical_cols])\n",
        "\n",
        "# Encode target variable\n",
        "data[target_col] = LabelEncoder().fit_transform(data[target_col])\n",
        "\n",
        "# Split data into train and test sets\n",
        "X = data.drop(target_col, axis=1).to_numpy()\n",
        "y = data[target_col].to_numpy()\n",
        "X_train, X_test, y_train, y_test = train_test_split(X, y, test_size=0.2, random_state=42, stratify=y)\n",
        "\n",
        "# Generate synthetic data using SMOTE\n",
        "smote = SMOTE(random_state=42)\n",
        "X_train_synthetic, y_train_synthetic = smote.fit_resample(X_train, y_train)\n",
        "\n",
        "# Save the original dataset\n",
        "original_data = pd.DataFrame(X_train, columns=data.drop(target_col, axis=1).columns)\n",
        "original_data[target_col] = y_train\n",
        "original_data.to_csv(\"original_dataset.csv\", index=False)\n",
        "print(\"Original dataset saved as 'original_dataset.csv'.\")\n",
        "\n",
        "# Save the SMOTE-augmented dataset\n",
        "synthetic_data = pd.DataFrame(X_train_synthetic, columns=data.drop(target_col, axis=1).columns)\n",
        "synthetic_data[target_col] = y_train_synthetic\n",
        "synthetic_data.to_csv(\"synthetic_dataset.csv\", index=False)\n",
        "print(\"Synthetic dataset saved as 'synthetic_dataset.csv'.\")\n",
        "\n",
        "# Initialize TabNet model\n",
        "model_original = TabNetClassifier()\n",
        "model_synthetic = TabNetClassifier()\n",
        "\n",
        "# Train model on original data\n",
        "model_original.fit(\n",
        "    X_train, y_train,\n",
        "    eval_set=[(X_test, y_test)],\n",
        "    eval_name=['valid'],\n",
        "    eval_metric=['accuracy'],\n",
        "    max_epochs=500,\n",
        "    patience=40,\n",
        "    batch_size=1024,\n",
        "    virtual_batch_size=128,\n",
        "    num_workers=0,\n",
        "    drop_last=False\n",
        ")\n",
        "\n",
        "# Train model on synthetic data\n",
        "model_synthetic.fit(\n",
        "    X_train_synthetic, y_train_synthetic,\n",
        "    eval_set=[(X_test, y_test)],\n",
        "    eval_name=['valid'],\n",
        "    eval_metric=['accuracy'],\n",
        "    max_epochs=500,\n",
        "    patience=40,\n",
        "    batch_size=1024,\n",
        "    virtual_batch_size=128,\n",
        "    num_workers=0,\n",
        "    drop_last=False\n",
        ")\n",
        "\n",
        "# Evaluate models\n",
        "def evaluate_model(model, X_test, y_test):\n",
        "    y_pred = model.predict(X_test)\n",
        "    accuracy = accuracy_score(y_test, y_pred)\n",
        "    precision = precision_score(y_test, y_pred)\n",
        "    recall = recall_score(y_test, y_pred)\n",
        "    return accuracy, precision, recall\n",
        "\n",
        "metrics_original = evaluate_model(model_original, X_test, y_test)\n",
        "metrics_synthetic = evaluate_model(model_synthetic, X_test, y_test)\n",
        "\n",
        "# Print metrics\n",
        "print(\"Metrics for model trained on original data:\")\n",
        "print(f\"Accuracy: {metrics_original[0]:.4f}, Precision: {metrics_original[1]:.4f}, Recall: {metrics_original[2]:.4f}\")\n",
        "\n",
        "print(\"\\nMetrics for model trained on synthetic data:\")\n",
        "print(f\"Accuracy: {metrics_synthetic[0]:.4f}, Precision: {metrics_synthetic[1]:.4f}, Recall: {metrics_synthetic[2]:.4f}\")\n",
        "\n",
        "# Visualizations\n",
        "# Training curves\n",
        "plt.figure(figsize=(12, 6))\n",
        "plt.plot(model_original.history[\"valid_accuracy\"], label=\"Original Data\")\n",
        "plt.plot(model_synthetic.history[\"valid_accuracy\"], label=\"Synthetic Data\")\n",
        "plt.title(\"Validation Accuracy during Training\")\n",
        "plt.xlabel(\"Epochs\")\n",
        "plt.ylabel(\"Accuracy\")\n",
        "plt.legend()\n",
        "plt.show()\n",
        "\n",
        "# Model comparison bar chart\n",
        "metrics = ['Accuracy', 'Precision', 'Recall']\n",
        "original_values = list(metrics_original)\n",
        "synthetic_values = list(metrics_synthetic)\n",
        "\n",
        "x = np.arange(len(metrics))  # Label locations\n",
        "width = 0.35  # Bar width\n",
        "\n",
        "fig, ax = plt.subplots(figsize=(10, 6))\n",
        "rects1 = ax.bar(x - width/2, original_values, width, label='Original Data')\n",
        "rects2 = ax.bar(x + width/2, synthetic_values, width, label='Synthetic Data')\n",
        "\n",
        "ax.set_ylabel('Scores')\n",
        "ax.set_title('Model Performance Comparison')\n",
        "ax.set_xticks(x)\n",
        "ax.set_xticklabels(metrics)\n",
        "ax.legend()\n",
        "\n",
        "fig.tight_layout()\n",
        "plt.show()"
      ],
      "metadata": {
        "colab": {
          "base_uri": "https://localhost:8080/",
          "height": 1000
        },
        "id": "leW1-BThJDIg",
        "outputId": "63d85e8f-538e-458e-cf7f-9977e535a32a"
      },
      "execution_count": 6,
      "outputs": [
        {
          "output_type": "stream",
          "name": "stderr",
          "text": [
            "/usr/local/lib/python3.10/dist-packages/sklearn/base.py:474: FutureWarning: `BaseEstimator._validate_data` is deprecated in 1.6 and will be removed in 1.7. Use `sklearn.utils.validation.validate_data` instead. This function becomes public and is part of the scikit-learn developer API.\n",
            "  warnings.warn(\n",
            "/usr/local/lib/python3.10/dist-packages/sklearn/utils/_tags.py:354: FutureWarning: The SMOTE or classes from which it inherits use `_get_tags` and `_more_tags`. Please define the `__sklearn_tags__` method, or inherit from `sklearn.base.BaseEstimator` and/or other appropriate mixins such as `sklearn.base.TransformerMixin`, `sklearn.base.ClassifierMixin`, `sklearn.base.RegressorMixin`, and `sklearn.base.OutlierMixin`. From scikit-learn 1.7, not defining `__sklearn_tags__` will raise an error.\n",
            "  warnings.warn(\n"
          ]
        },
        {
          "output_type": "stream",
          "name": "stdout",
          "text": [
            "Original dataset saved as 'original_dataset.csv'.\n",
            "Synthetic dataset saved as 'synthetic_dataset.csv'.\n"
          ]
        },
        {
          "output_type": "stream",
          "name": "stderr",
          "text": [
            "/usr/local/lib/python3.10/dist-packages/pytorch_tabnet/abstract_model.py:82: UserWarning: Device used : cpu\n",
            "  warnings.warn(f\"Device used : {self.device}\")\n"
          ]
        },
        {
          "output_type": "stream",
          "name": "stdout",
          "text": [
            "epoch 0  | loss: 0.4839  | valid_accuracy: 0.68448 |  0:00:01s\n",
            "epoch 1  | loss: 0.37562 | valid_accuracy: 0.71227 |  0:00:03s\n",
            "epoch 2  | loss: 0.36538 | valid_accuracy: 0.73914 |  0:00:04s\n",
            "epoch 3  | loss: 0.35646 | valid_accuracy: 0.82865 |  0:00:06s\n",
            "epoch 4  | loss: 0.35496 | valid_accuracy: 0.83587 |  0:00:08s\n",
            "epoch 5  | loss: 0.35092 | valid_accuracy: 0.84569 |  0:00:10s\n",
            "epoch 6  | loss: 0.34901 | valid_accuracy: 0.84339 |  0:00:12s\n",
            "epoch 7  | loss: 0.34547 | valid_accuracy: 0.84708 |  0:00:13s\n",
            "epoch 8  | loss: 0.34333 | valid_accuracy: 0.8437  |  0:00:15s\n",
            "epoch 9  | loss: 0.34136 | valid_accuracy: 0.84769 |  0:00:16s\n",
            "epoch 10 | loss: 0.34178 | valid_accuracy: 0.84661 |  0:00:18s\n",
            "epoch 11 | loss: 0.33814 | valid_accuracy: 0.8437  |  0:00:19s\n",
            "epoch 12 | loss: 0.34102 | valid_accuracy: 0.84431 |  0:00:21s\n",
            "epoch 13 | loss: 0.33739 | valid_accuracy: 0.84661 |  0:00:23s\n",
            "epoch 14 | loss: 0.33587 | valid_accuracy: 0.84692 |  0:00:25s\n",
            "epoch 15 | loss: 0.33642 | valid_accuracy: 0.84308 |  0:00:26s\n",
            "epoch 16 | loss: 0.33747 | valid_accuracy: 0.84861 |  0:00:28s\n",
            "epoch 17 | loss: 0.33864 | valid_accuracy: 0.84738 |  0:00:30s\n",
            "epoch 18 | loss: 0.33541 | valid_accuracy: 0.84999 |  0:00:31s\n",
            "epoch 19 | loss: 0.333   | valid_accuracy: 0.84938 |  0:00:33s\n",
            "epoch 20 | loss: 0.33167 | valid_accuracy: 0.85091 |  0:00:35s\n",
            "epoch 21 | loss: 0.33056 | valid_accuracy: 0.85368 |  0:00:37s\n",
            "epoch 22 | loss: 0.33013 | valid_accuracy: 0.8526  |  0:00:39s\n",
            "epoch 23 | loss: 0.32979 | valid_accuracy: 0.85091 |  0:00:40s\n",
            "epoch 24 | loss: 0.32706 | valid_accuracy: 0.85567 |  0:00:42s\n",
            "epoch 25 | loss: 0.3291  | valid_accuracy: 0.8503  |  0:00:43s\n",
            "epoch 26 | loss: 0.3278  | valid_accuracy: 0.84846 |  0:00:44s\n",
            "epoch 27 | loss: 0.32687 | valid_accuracy: 0.85306 |  0:00:46s\n",
            "epoch 28 | loss: 0.32887 | valid_accuracy: 0.84907 |  0:00:48s\n",
            "epoch 29 | loss: 0.32892 | valid_accuracy: 0.85183 |  0:00:50s\n",
            "epoch 30 | loss: 0.32758 | valid_accuracy: 0.85076 |  0:00:52s\n",
            "epoch 31 | loss: 0.32922 | valid_accuracy: 0.84232 |  0:00:53s\n",
            "epoch 32 | loss: 0.33054 | valid_accuracy: 0.84293 |  0:00:55s\n",
            "epoch 33 | loss: 0.32729 | valid_accuracy: 0.84723 |  0:00:57s\n",
            "epoch 34 | loss: 0.32598 | valid_accuracy: 0.85245 |  0:00:58s\n",
            "epoch 35 | loss: 0.32546 | valid_accuracy: 0.84815 |  0:01:00s\n",
            "epoch 36 | loss: 0.32501 | valid_accuracy: 0.85383 |  0:01:01s\n",
            "epoch 37 | loss: 0.3243  | valid_accuracy: 0.8546  |  0:01:04s\n",
            "epoch 38 | loss: 0.32391 | valid_accuracy: 0.85398 |  0:01:06s\n",
            "epoch 39 | loss: 0.32669 | valid_accuracy: 0.85291 |  0:01:07s\n",
            "epoch 40 | loss: 0.32356 | valid_accuracy: 0.85398 |  0:01:09s\n",
            "epoch 41 | loss: 0.32607 | valid_accuracy: 0.85352 |  0:01:11s\n",
            "epoch 42 | loss: 0.32281 | valid_accuracy: 0.84539 |  0:01:12s\n",
            "epoch 43 | loss: 0.32264 | valid_accuracy: 0.85199 |  0:01:14s\n",
            "epoch 44 | loss: 0.32249 | valid_accuracy: 0.85168 |  0:01:16s\n",
            "epoch 45 | loss: 0.32158 | valid_accuracy: 0.85107 |  0:01:19s\n",
            "epoch 46 | loss: 0.32114 | valid_accuracy: 0.8526  |  0:01:20s\n",
            "epoch 47 | loss: 0.32339 | valid_accuracy: 0.8526  |  0:01:22s\n",
            "epoch 48 | loss: 0.32018 | valid_accuracy: 0.84815 |  0:01:23s\n",
            "epoch 49 | loss: 0.32491 | valid_accuracy: 0.84661 |  0:01:25s\n",
            "epoch 50 | loss: 0.32412 | valid_accuracy: 0.85091 |  0:01:26s\n",
            "epoch 51 | loss: 0.32282 | valid_accuracy: 0.85199 |  0:01:28s\n",
            "epoch 52 | loss: 0.32085 | valid_accuracy: 0.8503  |  0:01:30s\n",
            "epoch 53 | loss: 0.3219  | valid_accuracy: 0.8546  |  0:01:33s\n",
            "epoch 54 | loss: 0.31855 | valid_accuracy: 0.85045 |  0:01:35s\n",
            "epoch 55 | loss: 0.31983 | valid_accuracy: 0.84815 |  0:01:36s\n",
            "epoch 56 | loss: 0.31834 | valid_accuracy: 0.84999 |  0:01:37s\n",
            "epoch 57 | loss: 0.32019 | valid_accuracy: 0.85475 |  0:01:39s\n",
            "epoch 58 | loss: 0.32006 | valid_accuracy: 0.84938 |  0:01:40s\n",
            "epoch 59 | loss: 0.32133 | valid_accuracy: 0.85153 |  0:01:42s\n",
            "epoch 60 | loss: 0.31987 | valid_accuracy: 0.85475 |  0:01:47s\n",
            "epoch 61 | loss: 0.31937 | valid_accuracy: 0.8503  |  0:01:51s\n",
            "epoch 62 | loss: 0.31751 | valid_accuracy: 0.85168 |  0:01:54s\n",
            "epoch 63 | loss: 0.31917 | valid_accuracy: 0.8483  |  0:01:57s\n",
            "epoch 64 | loss: 0.31903 | valid_accuracy: 0.85245 |  0:02:03s\n",
            "\n",
            "Early stopping occurred at epoch 64 with best_epoch = 24 and best_valid_accuracy = 0.85567\n"
          ]
        },
        {
          "output_type": "stream",
          "name": "stderr",
          "text": [
            "/usr/local/lib/python3.10/dist-packages/pytorch_tabnet/callbacks.py:172: UserWarning: Best weights from best epoch are automatically used!\n",
            "  warnings.warn(wrn_msg)\n"
          ]
        },
        {
          "output_type": "stream",
          "name": "stdout",
          "text": [
            "epoch 0  | loss: 0.51964 | valid_accuracy: 0.58898 |  0:00:02s\n",
            "epoch 1  | loss: 0.43484 | valid_accuracy: 0.70029 |  0:00:04s\n",
            "epoch 2  | loss: 0.41768 | valid_accuracy: 0.72916 |  0:00:06s\n",
            "epoch 3  | loss: 0.4078  | valid_accuracy: 0.78428 |  0:00:09s\n",
            "epoch 4  | loss: 0.40169 | valid_accuracy: 0.78167 |  0:00:12s\n",
            "epoch 5  | loss: 0.39372 | valid_accuracy: 0.77798 |  0:00:14s\n",
            "epoch 6  | loss: 0.38895 | valid_accuracy: 0.77031 |  0:00:16s\n",
            "epoch 7  | loss: 0.38268 | valid_accuracy: 0.77982 |  0:00:18s\n",
            "epoch 8  | loss: 0.38098 | valid_accuracy: 0.79103 |  0:00:20s\n",
            "epoch 9  | loss: 0.37634 | valid_accuracy: 0.78996 |  0:00:23s\n",
            "epoch 10 | loss: 0.37483 | valid_accuracy: 0.79303 |  0:00:26s\n",
            "epoch 11 | loss: 0.3736  | valid_accuracy: 0.78658 |  0:00:28s\n",
            "epoch 12 | loss: 0.37133 | valid_accuracy: 0.79625 |  0:00:30s\n",
            "epoch 13 | loss: 0.37114 | valid_accuracy: 0.79272 |  0:00:32s\n",
            "epoch 14 | loss: 0.36922 | valid_accuracy: 0.79456 |  0:00:34s\n",
            "epoch 15 | loss: 0.3682  | valid_accuracy: 0.79764 |  0:00:37s\n",
            "epoch 16 | loss: 0.36892 | valid_accuracy: 0.79825 |  0:00:40s\n",
            "epoch 17 | loss: 0.36676 | valid_accuracy: 0.78812 |  0:00:42s\n",
            "epoch 18 | loss: 0.36772 | valid_accuracy: 0.80593 |  0:00:44s\n",
            "epoch 19 | loss: 0.36684 | valid_accuracy: 0.78965 |  0:00:46s\n",
            "epoch 20 | loss: 0.36547 | valid_accuracy: 0.79641 |  0:00:49s\n",
            "epoch 21 | loss: 0.36823 | valid_accuracy: 0.80516 |  0:00:52s\n",
            "epoch 22 | loss: 0.36792 | valid_accuracy: 0.79717 |  0:00:54s\n",
            "epoch 23 | loss: 0.36769 | valid_accuracy: 0.78981 |  0:00:56s\n",
            "epoch 24 | loss: 0.36551 | valid_accuracy: 0.78336 |  0:00:59s\n",
            "epoch 25 | loss: 0.36544 | valid_accuracy: 0.78996 |  0:01:01s\n",
            "epoch 26 | loss: 0.36298 | valid_accuracy: 0.80147 |  0:01:03s\n",
            "epoch 27 | loss: 0.36154 | valid_accuracy: 0.80378 |  0:01:06s\n",
            "epoch 28 | loss: 0.36313 | valid_accuracy: 0.79595 |  0:01:08s\n",
            "epoch 29 | loss: 0.3642  | valid_accuracy: 0.80746 |  0:01:11s\n",
            "epoch 30 | loss: 0.36172 | valid_accuracy: 0.7981  |  0:01:13s\n",
            "epoch 31 | loss: 0.36267 | valid_accuracy: 0.79579 |  0:01:15s\n",
            "epoch 32 | loss: 0.36042 | valid_accuracy: 0.80869 |  0:01:17s\n",
            "epoch 33 | loss: 0.36088 | valid_accuracy: 0.81606 |  0:01:21s\n",
            "epoch 34 | loss: 0.36099 | valid_accuracy: 0.79764 |  0:01:23s\n",
            "epoch 35 | loss: 0.35986 | valid_accuracy: 0.80286 |  0:01:25s\n",
            "epoch 36 | loss: 0.36039 | valid_accuracy: 0.78366 |  0:01:28s\n",
            "epoch 37 | loss: 0.35985 | valid_accuracy: 0.79979 |  0:01:30s\n",
            "epoch 38 | loss: 0.36018 | valid_accuracy: 0.78228 |  0:01:32s\n",
            "epoch 39 | loss: 0.36756 | valid_accuracy: 0.80147 |  0:01:35s\n",
            "epoch 40 | loss: 0.36155 | valid_accuracy: 0.80071 |  0:01:38s\n",
            "epoch 41 | loss: 0.36077 | valid_accuracy: 0.79871 |  0:01:40s\n",
            "epoch 42 | loss: 0.36057 | valid_accuracy: 0.80485 |  0:01:42s\n",
            "epoch 43 | loss: 0.35939 | valid_accuracy: 0.79656 |  0:01:45s\n",
            "epoch 44 | loss: 0.35963 | valid_accuracy: 0.81191 |  0:01:49s\n",
            "epoch 45 | loss: 0.3569  | valid_accuracy: 0.81238 |  0:01:51s\n",
            "epoch 46 | loss: 0.35925 | valid_accuracy: 0.80132 |  0:01:54s\n",
            "epoch 47 | loss: 0.35827 | valid_accuracy: 0.79656 |  0:01:56s\n",
            "epoch 48 | loss: 0.36793 | valid_accuracy: 0.7981  |  0:01:58s\n",
            "epoch 49 | loss: 0.36029 | valid_accuracy: 0.80332 |  0:02:01s\n",
            "epoch 50 | loss: 0.35945 | valid_accuracy: 0.80224 |  0:02:04s\n",
            "epoch 51 | loss: 0.35803 | valid_accuracy: 0.80869 |  0:02:06s\n",
            "epoch 52 | loss: 0.36412 | valid_accuracy: 0.81176 |  0:02:08s\n",
            "epoch 53 | loss: 0.36369 | valid_accuracy: 0.80009 |  0:02:11s\n",
            "epoch 54 | loss: 0.36086 | valid_accuracy: 0.79134 |  0:02:14s\n",
            "epoch 55 | loss: 0.35911 | valid_accuracy: 0.7766  |  0:02:16s\n",
            "epoch 56 | loss: 0.36759 | valid_accuracy: 0.79794 |  0:02:19s\n",
            "epoch 57 | loss: 0.36913 | valid_accuracy: 0.79549 |  0:02:21s\n",
            "epoch 58 | loss: 0.36561 | valid_accuracy: 0.79226 |  0:02:23s\n",
            "epoch 59 | loss: 0.36589 | valid_accuracy: 0.78781 |  0:02:25s\n",
            "epoch 60 | loss: 0.3641  | valid_accuracy: 0.79595 |  0:02:29s\n",
            "epoch 61 | loss: 0.36125 | valid_accuracy: 0.79948 |  0:02:31s\n",
            "epoch 62 | loss: 0.3615  | valid_accuracy: 0.80193 |  0:02:33s\n",
            "epoch 63 | loss: 0.35908 | valid_accuracy: 0.79917 |  0:02:36s\n",
            "epoch 64 | loss: 0.35871 | valid_accuracy: 0.80025 |  0:02:38s\n",
            "epoch 65 | loss: 0.35879 | valid_accuracy: 0.80147 |  0:02:41s\n",
            "epoch 66 | loss: 0.35836 | valid_accuracy: 0.80731 |  0:02:44s\n",
            "epoch 67 | loss: 0.35762 | valid_accuracy: 0.79702 |  0:02:46s\n",
            "epoch 68 | loss: 0.35574 | valid_accuracy: 0.8004  |  0:02:48s\n",
            "epoch 69 | loss: 0.35652 | valid_accuracy: 0.79856 |  0:02:50s\n",
            "epoch 70 | loss: 0.36397 | valid_accuracy: 0.81437 |  0:02:52s\n",
            "epoch 71 | loss: 0.36065 | valid_accuracy: 0.79257 |  0:02:56s\n",
            "epoch 72 | loss: 0.36169 | valid_accuracy: 0.79733 |  0:02:58s\n",
            "epoch 73 | loss: 0.35994 | valid_accuracy: 0.80025 |  0:03:01s\n",
            "\n",
            "Early stopping occurred at epoch 73 with best_epoch = 33 and best_valid_accuracy = 0.81606\n"
          ]
        },
        {
          "output_type": "stream",
          "name": "stderr",
          "text": [
            "/usr/local/lib/python3.10/dist-packages/pytorch_tabnet/callbacks.py:172: UserWarning: Best weights from best epoch are automatically used!\n",
            "  warnings.warn(wrn_msg)\n"
          ]
        },
        {
          "output_type": "stream",
          "name": "stdout",
          "text": [
            "Metrics for model trained on original data:\n",
            "Accuracy: 0.8557, Precision: 0.7897, Recall: 0.5459\n",
            "\n",
            "Metrics for model trained on synthetic data:\n",
            "Accuracy: 0.8161, Precision: 0.5811, Recall: 0.8450\n"
          ]
        },
        {
          "output_type": "display_data",
          "data": {
            "text/plain": [
              "<Figure size 1200x600 with 1 Axes>"
            ],
            "image/png": "[encoded data removed]"
          },
          "metadata": {}
        },
        {
          "output_type": "display_data",
          "data": {
            "text/plain": [
              "<Figure size 1000x600 with 1 Axes>"
            ],
            "image/png": "[encoded data removed]"
          },
          "metadata": {}
        }
      ]
    },
    {
      "cell_type": "code",
      "source": [
        "# View a sample of the synthetic data (First 10 Rows)\n",
        "synthetic_data_sample = pd.DataFrame(X_train_synthetic, columns=data.drop(target_col, axis=1).columns)\n",
        "synthetic_data_sample[target_col] = y_train_synthetic\n",
        "\n",
        "# Display the first 10 rows\n",
        "print(\"Synthetic Data Sample (First 10 Rows):\")\n",
        "print(synthetic_data_sample.head(20).to_string(index=False))"
      ],
      "metadata": {
        "colab": {
          "base_uri": "https://localhost:8080/"
        },
        "id": "QGiEsmqoNt1U",
        "outputId": "f27afb0f-2953-4a11-df0d-49a9b5168f3f"
      },
      "execution_count": 10,
      "outputs": [
        {
          "output_type": "stream",
          "name": "stdout",
          "text": [
            "Synthetic Data Sample (First 10 Rows):\n",
            "      age  workclass    fnlwgt  education  education-num  marital-status  occupation  relationship  race  sex  capital-gain  capital-loss  hours-per-week  native-country  income\n",
            "-0.482518        4.0 -1.445483        9.0       1.134739             2.0         4.0           0.0   4.0  1.0     -0.145920     -0.216660        0.369519            39.0       1\n",
            " 0.323921        4.0 -0.832115       12.0       1.523438             4.0         4.0           1.0   4.0  0.0     -0.145920     -0.216660        0.369519            39.0       0\n",
            "-1.362269        0.0 -0.639843       11.0      -0.420060             4.0         0.0           1.0   4.0  0.0     -0.145920     -0.216660       -1.007307            39.0       0\n",
            " 0.103983        2.0 -1.563410       15.0      -0.031360             0.0        14.0           4.0   4.0  1.0      0.781478     -0.216660       -0.035429            39.0       0\n",
            "-1.069018        4.0 -0.718556        9.0       1.134739             4.0        10.0           3.0   4.0  1.0     -0.145920     -0.216660       -0.035429            39.0       0\n",
            " 0.910422        4.0  0.453362       11.0      -0.420060             2.0        13.0           0.0   4.0  1.0      0.842275     -0.216660        0.774468            39.0       1\n",
            " 0.397233        4.0  1.141435       15.0      -0.031360             2.0         3.0           0.0   4.0  1.0     -0.145920     -0.216660        1.584366            39.0       1\n",
            " 1.057047        4.0 -0.647451       15.0      -0.031360             2.0        12.0           0.0   4.0  1.0     -0.145920     -0.216660        1.179417            39.0       0\n",
            " 0.397233        5.0  0.018320       12.0       1.523438             2.0        10.0           0.0   4.0  1.0     -0.145920      5.776580        1.179417            39.0       1\n",
            "-0.775768        0.0 -0.380227       15.0      -0.031360             0.0         0.0           3.0   4.0  0.0     -0.145920     -0.216660       -1.655225             0.0       0\n",
            "-0.482518        4.0 -0.723975        9.0       1.134739             4.0        10.0           1.0   4.0  1.0     -0.145920     -0.216660       -0.035429            39.0       1\n",
            " 0.910422        4.0 -1.197123       12.0       1.523438             2.0        10.0           5.0   4.0  0.0     -0.145920     -0.216660       -0.035429            39.0       1\n",
            "-0.702455        4.0 -0.133023        9.0       1.134739             4.0         4.0           1.0   4.0  0.0     -0.145920     -0.216660        0.369519            39.0       1\n",
            "-1.215643        4.0 -1.435620        7.0       0.746039             4.0         8.0           4.0   4.0  0.0     -0.145920     -0.216660       -0.440378            39.0       0\n",
            " 1.570235        0.0  0.585453       11.0      -0.420060             6.0         0.0           1.0   4.0  1.0     -0.145920     -0.216660       -0.440378            31.0       0\n",
            "-0.335892        0.0  1.207415       15.0      -0.031360             2.0         0.0           5.0   4.0  0.0     -0.145920     -0.216660       -1.655225            39.0       1\n",
            " 1.130359        2.0 -0.027422       15.0      -0.031360             2.0        14.0           0.0   2.0  1.0     -0.145920     -0.216660       -0.845327            39.0       0\n",
            "-1.435581        4.0  2.132602       11.0      -0.420060             4.0         3.0           3.0   4.0  1.0     -0.145920     -0.216660       -0.035429            39.0       0\n",
            " 1.643547        4.0 -0.982596        7.0       0.746039             2.0        12.0           0.0   4.0  1.0      1.888424     -0.216660       -0.035429            39.0       1\n",
            " 0.543859        4.0 -0.388830       11.0      -0.420060             2.0         6.0           0.0   4.0  1.0     -0.145920      4.101451       -0.440378            39.0       0\n"
          ]
        }
      ]
    },
    {
      "cell_type": "code",
      "source": [
        "from google.colab import files\n",
        "\n",
        "# Download the CSV files\n",
        "files.download(\"original_dataset.csv\")\n",
        "files.download(\"synthetic_dataset.csv\")"
      ],
      "metadata": {
        "colab": {
          "base_uri": "https://localhost:8080/",
          "height": 17
        },
        "id": "5qmdwuAk0TEQ",
        "outputId": "028c1dab-794e-4da7-d45c-d8bad969132b"
      },
      "execution_count": 12,
      "outputs": [
        {
          "output_type": "display_data",
          "data": {
            "text/plain": [
              "<IPython.core.display.Javascript object>"
            ],
            "application/javascript": [
              "\n",
              "    async function download(id, filename, size) {\n",
              "      if (!google.colab.kernel.accessAllowed) {\n",
              "        return;\n",
              "      }\n",
              "      const div = document.createElement('div');\n",
              "      const label = document.createElement('label');\n",
              "      label.textContent = `Downloading \"${filename}\": `;\n",
              "      div.appendChild(label);\n",
              "      const progress = document.createElement('progress');\n",
              "      progress.max = size;\n",
              "      div.appendChild(progress);\n",
              "      document.body.appendChild(div);\n",
              "\n",
              "      const buffers = [];\n",
              "      let downloaded = 0;\n",
              "\n",
              "      const channel = await google.colab.kernel.comms.open(id);\n",
              "      // Send a message to notify the kernel that we're ready.\n",
              "      channel.send({})\n",
              "\n",
              "      for await (const message of channel.messages) {\n",
              "        // Send a message to notify the kernel that we're ready.\n",
              "        channel.send({})\n",
              "        if (message.buffers) {\n",
              "          for (const buffer of message.buffers) {\n",
              "            buffers.push(buffer);\n",
              "            downloaded += buffer.byteLength;\n",
              "            progress.value = downloaded;\n",
              "          }\n",
              "        }\n",
              "      }\n",
              "      const blob = new Blob(buffers, {type: 'application/binary'});\n",
              "      const a = document.createElement('a');\n",
              "      a.href = window.URL.createObjectURL(blob);\n",
              "      a.download = filename;\n",
              "      div.appendChild(a);\n",
              "      a.click();\n",
              "      div.remove();\n",
              "    }\n",
              "  "
            ]
          },
          "metadata": {}
        },
        {
          "output_type": "display_data",
          "data": {
            "text/plain": [
              "<IPython.core.display.Javascript object>"
            ],
            "application/javascript": [
              "download(\"download_aaa50ff9-0b2f-49f4-b1d4-00c8100d3a0e\", \"original_dataset.csv\", 4086234)"
            ]
          },
          "metadata": {}
        },
        {
          "output_type": "display_data",
          "data": {
            "text/plain": [
              "<IPython.core.display.Javascript object>"
            ],
            "application/javascript": [
              "\n",
              "    async function download(id, filename, size) {\n",
              "      if (!google.colab.kernel.accessAllowed) {\n",
              "        return;\n",
              "      }\n",
              "      const div = document.createElement('div');\n",
              "      const label = document.createElement('label');\n",
              "      label.textContent = `Downloading \"${filename}\": `;\n",
              "      div.appendChild(label);\n",
              "      const progress = document.createElement('progress');\n",
              "      progress.max = size;\n",
              "      div.appendChild(progress);\n",
              "      document.body.appendChild(div);\n",
              "\n",
              "      const buffers = [];\n",
              "      let downloaded = 0;\n",
              "\n",
              "      const channel = await google.colab.kernel.comms.open(id);\n",
              "      // Send a message to notify the kernel that we're ready.\n",
              "      channel.send({})\n",
              "\n",
              "      for await (const message of channel.messages) {\n",
              "        // Send a message to notify the kernel that we're ready.\n",
              "        channel.send({})\n",
              "        if (message.buffers) {\n",
              "          for (const buffer of message.buffers) {\n",
              "            buffers.push(buffer);\n",
              "            downloaded += buffer.byteLength;\n",
              "            progress.value = downloaded;\n",
              "          }\n",
              "        }\n",
              "      }\n",
              "      const blob = new Blob(buffers, {type: 'application/binary'});\n",
              "      const a = document.createElement('a');\n",
              "      a.href = window.URL.createObjectURL(blob);\n",
              "      a.download = filename;\n",
              "      div.appendChild(a);\n",
              "      a.click();\n",
              "      div.remove();\n",
              "    }\n",
              "  "
            ]
          },
          "metadata": {}
        },
        {
          "output_type": "display_data",
          "data": {
            "text/plain": [
              "<IPython.core.display.Javascript object>"
            ],
            "application/javascript": [
              "download(\"download_70863f98-6e3e-4142-ae82-b7b40e02a8c4\", \"synthetic_dataset.csv\", 6344686)"
            ]
          },
          "metadata": {}
        }
      ]
    }
  ]
}